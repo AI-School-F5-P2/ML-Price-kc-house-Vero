{
 "cells": [
  {
   "cell_type": "code",
   "execution_count": 24,
   "id": "35d6815b-59f1-4767-9a9a-e03a9417b3c2",
   "metadata": {},
   "outputs": [
    {
     "name": "stdout",
     "output_type": "stream",
     "text": [
      "Requirement already satisfied: scikit-learn in c:\\users\\vero\\desktop\\env-ml-price\\ml-price\\lib\\site-packages (1.3.0)\n",
      "Requirement already satisfied: numpy>=1.17.3 in c:\\users\\vero\\desktop\\env-ml-price\\ml-price\\lib\\site-packages (from scikit-learn) (1.25.2)\n",
      "Requirement already satisfied: scipy>=1.5.0 in c:\\users\\vero\\desktop\\env-ml-price\\ml-price\\lib\\site-packages (from scikit-learn) (1.11.2)\n",
      "Requirement already satisfied: joblib>=1.1.1 in c:\\users\\vero\\desktop\\env-ml-price\\ml-price\\lib\\site-packages (from scikit-learn) (1.3.2)\n",
      "Requirement already satisfied: threadpoolctl>=2.0.0 in c:\\users\\vero\\desktop\\env-ml-price\\ml-price\\lib\\site-packages (from scikit-learn) (3.2.0)\n",
      "Note: you may need to restart the kernel to use updated packages.\n"
     ]
    }
   ],
   "source": [
    "pip install scikit-learn"
   ]
  },
  {
   "cell_type": "code",
   "execution_count": 25,
   "id": "3c6d66e1-1fec-4182-ba75-723148632d7b",
   "metadata": {},
   "outputs": [],
   "source": [
    "# Librerías básicas\n",
    "import pandas as pd\n",
    "import numpy as np\n",
    "\n",
    "# Librerías de visualización\n",
    "import matplotlib.pyplot as plt\n",
    "import seaborn as sns\n",
    "\n",
    "# Librerías de Machine Learning\n",
    "from sklearn.preprocessing import MinMaxScaler\n",
    "from sklearn.model_selection import train_test_split\n",
    "from sklearn.linear_model import LinearRegression\n",
    "from sklearn.metrics import mean_absolute_error as mae\n",
    "from sklearn.metrics import mean_squared_error as mse\n",
    "from sklearn.metrics import r2_score as r2\n",
    "from sklearn.neighbors import KNeighborsRegressor"
   ]
  },
  {
   "cell_type": "code",
   "execution_count": 26,
   "id": "66c67aab-3f11-4733-83a5-8bd3bab86e51",
   "metadata": {},
   "outputs": [
    {
     "data": {
      "text/html": [
       "<div>\n",
       "<style scoped>\n",
       "    .dataframe tbody tr th:only-of-type {\n",
       "        vertical-align: middle;\n",
       "    }\n",
       "\n",
       "    .dataframe tbody tr th {\n",
       "        vertical-align: top;\n",
       "    }\n",
       "\n",
       "    .dataframe thead th {\n",
       "        text-align: right;\n",
       "    }\n",
       "</style>\n",
       "<table border=\"1\" class=\"dataframe\">\n",
       "  <thead>\n",
       "    <tr style=\"text-align: right;\">\n",
       "      <th></th>\n",
       "      <th>0</th>\n",
       "      <th>1</th>\n",
       "      <th>2</th>\n",
       "      <th>3</th>\n",
       "      <th>4</th>\n",
       "    </tr>\n",
       "  </thead>\n",
       "  <tbody>\n",
       "    <tr>\n",
       "      <th>id</th>\n",
       "      <td>7129300520</td>\n",
       "      <td>6414100192</td>\n",
       "      <td>5631500400</td>\n",
       "      <td>2487200875</td>\n",
       "      <td>1954400510</td>\n",
       "    </tr>\n",
       "    <tr>\n",
       "      <th>date</th>\n",
       "      <td>20141013T000000</td>\n",
       "      <td>20141209T000000</td>\n",
       "      <td>20150225T000000</td>\n",
       "      <td>20141209T000000</td>\n",
       "      <td>20150218T000000</td>\n",
       "    </tr>\n",
       "    <tr>\n",
       "      <th>price</th>\n",
       "      <td>221900.0</td>\n",
       "      <td>538000.0</td>\n",
       "      <td>180000.0</td>\n",
       "      <td>604000.0</td>\n",
       "      <td>510000.0</td>\n",
       "    </tr>\n",
       "    <tr>\n",
       "      <th>bedrooms</th>\n",
       "      <td>3</td>\n",
       "      <td>3</td>\n",
       "      <td>2</td>\n",
       "      <td>4</td>\n",
       "      <td>3</td>\n",
       "    </tr>\n",
       "    <tr>\n",
       "      <th>bathrooms</th>\n",
       "      <td>1.0</td>\n",
       "      <td>2.25</td>\n",
       "      <td>1.0</td>\n",
       "      <td>3.0</td>\n",
       "      <td>2.0</td>\n",
       "    </tr>\n",
       "    <tr>\n",
       "      <th>sqft_living</th>\n",
       "      <td>1180</td>\n",
       "      <td>2570</td>\n",
       "      <td>770</td>\n",
       "      <td>1960</td>\n",
       "      <td>1680</td>\n",
       "    </tr>\n",
       "    <tr>\n",
       "      <th>sqft_lot</th>\n",
       "      <td>5650</td>\n",
       "      <td>7242</td>\n",
       "      <td>10000</td>\n",
       "      <td>5000</td>\n",
       "      <td>8080</td>\n",
       "    </tr>\n",
       "    <tr>\n",
       "      <th>floors</th>\n",
       "      <td>1.0</td>\n",
       "      <td>2.0</td>\n",
       "      <td>1.0</td>\n",
       "      <td>1.0</td>\n",
       "      <td>1.0</td>\n",
       "    </tr>\n",
       "    <tr>\n",
       "      <th>waterfront</th>\n",
       "      <td>0</td>\n",
       "      <td>0</td>\n",
       "      <td>0</td>\n",
       "      <td>0</td>\n",
       "      <td>0</td>\n",
       "    </tr>\n",
       "    <tr>\n",
       "      <th>view</th>\n",
       "      <td>0</td>\n",
       "      <td>0</td>\n",
       "      <td>0</td>\n",
       "      <td>0</td>\n",
       "      <td>0</td>\n",
       "    </tr>\n",
       "    <tr>\n",
       "      <th>condition</th>\n",
       "      <td>3</td>\n",
       "      <td>3</td>\n",
       "      <td>3</td>\n",
       "      <td>5</td>\n",
       "      <td>3</td>\n",
       "    </tr>\n",
       "    <tr>\n",
       "      <th>grade</th>\n",
       "      <td>7</td>\n",
       "      <td>7</td>\n",
       "      <td>6</td>\n",
       "      <td>7</td>\n",
       "      <td>8</td>\n",
       "    </tr>\n",
       "    <tr>\n",
       "      <th>sqft_above</th>\n",
       "      <td>1180</td>\n",
       "      <td>2170</td>\n",
       "      <td>770</td>\n",
       "      <td>1050</td>\n",
       "      <td>1680</td>\n",
       "    </tr>\n",
       "    <tr>\n",
       "      <th>sqft_basement</th>\n",
       "      <td>0</td>\n",
       "      <td>400</td>\n",
       "      <td>0</td>\n",
       "      <td>910</td>\n",
       "      <td>0</td>\n",
       "    </tr>\n",
       "    <tr>\n",
       "      <th>yr_built</th>\n",
       "      <td>1955</td>\n",
       "      <td>1951</td>\n",
       "      <td>1933</td>\n",
       "      <td>1965</td>\n",
       "      <td>1987</td>\n",
       "    </tr>\n",
       "    <tr>\n",
       "      <th>yr_renovated</th>\n",
       "      <td>0</td>\n",
       "      <td>1991</td>\n",
       "      <td>0</td>\n",
       "      <td>0</td>\n",
       "      <td>0</td>\n",
       "    </tr>\n",
       "    <tr>\n",
       "      <th>zipcode</th>\n",
       "      <td>98178</td>\n",
       "      <td>98125</td>\n",
       "      <td>98028</td>\n",
       "      <td>98136</td>\n",
       "      <td>98074</td>\n",
       "    </tr>\n",
       "    <tr>\n",
       "      <th>lat</th>\n",
       "      <td>47.5112</td>\n",
       "      <td>47.721</td>\n",
       "      <td>47.7379</td>\n",
       "      <td>47.5208</td>\n",
       "      <td>47.6168</td>\n",
       "    </tr>\n",
       "    <tr>\n",
       "      <th>long</th>\n",
       "      <td>-122.257</td>\n",
       "      <td>-122.319</td>\n",
       "      <td>-122.233</td>\n",
       "      <td>-122.393</td>\n",
       "      <td>-122.045</td>\n",
       "    </tr>\n",
       "    <tr>\n",
       "      <th>sqft_living15</th>\n",
       "      <td>1340</td>\n",
       "      <td>1690</td>\n",
       "      <td>2720</td>\n",
       "      <td>1360</td>\n",
       "      <td>1800</td>\n",
       "    </tr>\n",
       "    <tr>\n",
       "      <th>sqft_lot15</th>\n",
       "      <td>5650</td>\n",
       "      <td>7639</td>\n",
       "      <td>8062</td>\n",
       "      <td>5000</td>\n",
       "      <td>7503</td>\n",
       "    </tr>\n",
       "  </tbody>\n",
       "</table>\n",
       "</div>"
      ],
      "text/plain": [
       "                             0                1                2  \\\n",
       "id                  7129300520       6414100192       5631500400   \n",
       "date           20141013T000000  20141209T000000  20150225T000000   \n",
       "price                 221900.0         538000.0         180000.0   \n",
       "bedrooms                     3                3                2   \n",
       "bathrooms                  1.0             2.25              1.0   \n",
       "sqft_living               1180             2570              770   \n",
       "sqft_lot                  5650             7242            10000   \n",
       "floors                     1.0              2.0              1.0   \n",
       "waterfront                   0                0                0   \n",
       "view                         0                0                0   \n",
       "condition                    3                3                3   \n",
       "grade                        7                7                6   \n",
       "sqft_above                1180             2170              770   \n",
       "sqft_basement                0              400                0   \n",
       "yr_built                  1955             1951             1933   \n",
       "yr_renovated                 0             1991                0   \n",
       "zipcode                  98178            98125            98028   \n",
       "lat                    47.5112           47.721          47.7379   \n",
       "long                  -122.257         -122.319         -122.233   \n",
       "sqft_living15             1340             1690             2720   \n",
       "sqft_lot15                5650             7639             8062   \n",
       "\n",
       "                             3                4  \n",
       "id                  2487200875       1954400510  \n",
       "date           20141209T000000  20150218T000000  \n",
       "price                 604000.0         510000.0  \n",
       "bedrooms                     4                3  \n",
       "bathrooms                  3.0              2.0  \n",
       "sqft_living               1960             1680  \n",
       "sqft_lot                  5000             8080  \n",
       "floors                     1.0              1.0  \n",
       "waterfront                   0                0  \n",
       "view                         0                0  \n",
       "condition                    5                3  \n",
       "grade                        7                8  \n",
       "sqft_above                1050             1680  \n",
       "sqft_basement              910                0  \n",
       "yr_built                  1965             1987  \n",
       "yr_renovated                 0                0  \n",
       "zipcode                  98136            98074  \n",
       "lat                    47.5208          47.6168  \n",
       "long                  -122.393         -122.045  \n",
       "sqft_living15             1360             1800  \n",
       "sqft_lot15                5000             7503  "
      ]
     },
     "execution_count": 26,
     "metadata": {},
     "output_type": "execute_result"
    }
   ],
   "source": [
    "df = pd.read_csv(\"kc_house_data.csv\")\n",
    "df.head().T"
   ]
  },
  {
   "cell_type": "markdown",
   "id": "776b08da-12dd-4add-b0e1-fe59b71529e4",
   "metadata": {},
   "source": [
    "1.Quito columnas que no me aportan nada"
   ]
  },
  {
   "cell_type": "code",
   "execution_count": 27,
   "id": "03fa2f0a-8512-4249-a76d-1dc729fa806b",
   "metadata": {},
   "outputs": [],
   "source": [
    "df = df.drop(['id', 'date',\"lat\",\"long\"], axis=1)"
   ]
  },
  {
   "cell_type": "code",
   "execution_count": 28,
   "id": "ad1569af-39b4-48ec-ad2d-68c4deca442b",
   "metadata": {},
   "outputs": [
    {
     "data": {
      "text/html": [
       "<div>\n",
       "<style scoped>\n",
       "    .dataframe tbody tr th:only-of-type {\n",
       "        vertical-align: middle;\n",
       "    }\n",
       "\n",
       "    .dataframe tbody tr th {\n",
       "        vertical-align: top;\n",
       "    }\n",
       "\n",
       "    .dataframe thead th {\n",
       "        text-align: right;\n",
       "    }\n",
       "</style>\n",
       "<table border=\"1\" class=\"dataframe\">\n",
       "  <thead>\n",
       "    <tr style=\"text-align: right;\">\n",
       "      <th></th>\n",
       "      <th>0</th>\n",
       "      <th>1</th>\n",
       "      <th>2</th>\n",
       "      <th>3</th>\n",
       "      <th>4</th>\n",
       "    </tr>\n",
       "  </thead>\n",
       "  <tbody>\n",
       "    <tr>\n",
       "      <th>price</th>\n",
       "      <td>221900.0</td>\n",
       "      <td>538000.00</td>\n",
       "      <td>180000.0</td>\n",
       "      <td>604000.0</td>\n",
       "      <td>510000.0</td>\n",
       "    </tr>\n",
       "    <tr>\n",
       "      <th>bedrooms</th>\n",
       "      <td>3.0</td>\n",
       "      <td>3.00</td>\n",
       "      <td>2.0</td>\n",
       "      <td>4.0</td>\n",
       "      <td>3.0</td>\n",
       "    </tr>\n",
       "    <tr>\n",
       "      <th>bathrooms</th>\n",
       "      <td>1.0</td>\n",
       "      <td>2.25</td>\n",
       "      <td>1.0</td>\n",
       "      <td>3.0</td>\n",
       "      <td>2.0</td>\n",
       "    </tr>\n",
       "    <tr>\n",
       "      <th>sqft_living</th>\n",
       "      <td>1180.0</td>\n",
       "      <td>2570.00</td>\n",
       "      <td>770.0</td>\n",
       "      <td>1960.0</td>\n",
       "      <td>1680.0</td>\n",
       "    </tr>\n",
       "    <tr>\n",
       "      <th>sqft_lot</th>\n",
       "      <td>5650.0</td>\n",
       "      <td>7242.00</td>\n",
       "      <td>10000.0</td>\n",
       "      <td>5000.0</td>\n",
       "      <td>8080.0</td>\n",
       "    </tr>\n",
       "    <tr>\n",
       "      <th>floors</th>\n",
       "      <td>1.0</td>\n",
       "      <td>2.00</td>\n",
       "      <td>1.0</td>\n",
       "      <td>1.0</td>\n",
       "      <td>1.0</td>\n",
       "    </tr>\n",
       "    <tr>\n",
       "      <th>waterfront</th>\n",
       "      <td>0.0</td>\n",
       "      <td>0.00</td>\n",
       "      <td>0.0</td>\n",
       "      <td>0.0</td>\n",
       "      <td>0.0</td>\n",
       "    </tr>\n",
       "    <tr>\n",
       "      <th>view</th>\n",
       "      <td>0.0</td>\n",
       "      <td>0.00</td>\n",
       "      <td>0.0</td>\n",
       "      <td>0.0</td>\n",
       "      <td>0.0</td>\n",
       "    </tr>\n",
       "    <tr>\n",
       "      <th>condition</th>\n",
       "      <td>3.0</td>\n",
       "      <td>3.00</td>\n",
       "      <td>3.0</td>\n",
       "      <td>5.0</td>\n",
       "      <td>3.0</td>\n",
       "    </tr>\n",
       "    <tr>\n",
       "      <th>grade</th>\n",
       "      <td>7.0</td>\n",
       "      <td>7.00</td>\n",
       "      <td>6.0</td>\n",
       "      <td>7.0</td>\n",
       "      <td>8.0</td>\n",
       "    </tr>\n",
       "    <tr>\n",
       "      <th>sqft_above</th>\n",
       "      <td>1180.0</td>\n",
       "      <td>2170.00</td>\n",
       "      <td>770.0</td>\n",
       "      <td>1050.0</td>\n",
       "      <td>1680.0</td>\n",
       "    </tr>\n",
       "    <tr>\n",
       "      <th>sqft_basement</th>\n",
       "      <td>0.0</td>\n",
       "      <td>400.00</td>\n",
       "      <td>0.0</td>\n",
       "      <td>910.0</td>\n",
       "      <td>0.0</td>\n",
       "    </tr>\n",
       "    <tr>\n",
       "      <th>yr_built</th>\n",
       "      <td>1955.0</td>\n",
       "      <td>1951.00</td>\n",
       "      <td>1933.0</td>\n",
       "      <td>1965.0</td>\n",
       "      <td>1987.0</td>\n",
       "    </tr>\n",
       "    <tr>\n",
       "      <th>yr_renovated</th>\n",
       "      <td>0.0</td>\n",
       "      <td>1991.00</td>\n",
       "      <td>0.0</td>\n",
       "      <td>0.0</td>\n",
       "      <td>0.0</td>\n",
       "    </tr>\n",
       "    <tr>\n",
       "      <th>zipcode</th>\n",
       "      <td>98178.0</td>\n",
       "      <td>98125.00</td>\n",
       "      <td>98028.0</td>\n",
       "      <td>98136.0</td>\n",
       "      <td>98074.0</td>\n",
       "    </tr>\n",
       "    <tr>\n",
       "      <th>sqft_living15</th>\n",
       "      <td>1340.0</td>\n",
       "      <td>1690.00</td>\n",
       "      <td>2720.0</td>\n",
       "      <td>1360.0</td>\n",
       "      <td>1800.0</td>\n",
       "    </tr>\n",
       "    <tr>\n",
       "      <th>sqft_lot15</th>\n",
       "      <td>5650.0</td>\n",
       "      <td>7639.00</td>\n",
       "      <td>8062.0</td>\n",
       "      <td>5000.0</td>\n",
       "      <td>7503.0</td>\n",
       "    </tr>\n",
       "  </tbody>\n",
       "</table>\n",
       "</div>"
      ],
      "text/plain": [
       "                      0          1         2         3         4\n",
       "price          221900.0  538000.00  180000.0  604000.0  510000.0\n",
       "bedrooms            3.0       3.00       2.0       4.0       3.0\n",
       "bathrooms           1.0       2.25       1.0       3.0       2.0\n",
       "sqft_living      1180.0    2570.00     770.0    1960.0    1680.0\n",
       "sqft_lot         5650.0    7242.00   10000.0    5000.0    8080.0\n",
       "floors              1.0       2.00       1.0       1.0       1.0\n",
       "waterfront          0.0       0.00       0.0       0.0       0.0\n",
       "view                0.0       0.00       0.0       0.0       0.0\n",
       "condition           3.0       3.00       3.0       5.0       3.0\n",
       "grade               7.0       7.00       6.0       7.0       8.0\n",
       "sqft_above       1180.0    2170.00     770.0    1050.0    1680.0\n",
       "sqft_basement       0.0     400.00       0.0     910.0       0.0\n",
       "yr_built         1955.0    1951.00    1933.0    1965.0    1987.0\n",
       "yr_renovated        0.0    1991.00       0.0       0.0       0.0\n",
       "zipcode         98178.0   98125.00   98028.0   98136.0   98074.0\n",
       "sqft_living15    1340.0    1690.00    2720.0    1360.0    1800.0\n",
       "sqft_lot15       5650.0    7639.00    8062.0    5000.0    7503.0"
      ]
     },
     "execution_count": 28,
     "metadata": {},
     "output_type": "execute_result"
    }
   ],
   "source": [
    "df.head().T"
   ]
  },
  {
   "cell_type": "markdown",
   "id": "00a79bc3-6f15-432b-9571-20a492f2fe8d",
   "metadata": {},
   "source": [
    "2.Hemos visto que no hay nulos."
   ]
  },
  {
   "cell_type": "code",
   "execution_count": 29,
   "id": "da9a4a24-0113-4c30-9e4f-ba6c7f3a3af0",
   "metadata": {},
   "outputs": [
    {
     "data": {
      "text/plain": [
       "price            0\n",
       "bedrooms         0\n",
       "bathrooms        0\n",
       "sqft_living      0\n",
       "sqft_lot         0\n",
       "floors           0\n",
       "waterfront       0\n",
       "view             0\n",
       "condition        0\n",
       "grade            0\n",
       "sqft_above       0\n",
       "sqft_basement    0\n",
       "yr_built         0\n",
       "yr_renovated     0\n",
       "zipcode          0\n",
       "sqft_living15    0\n",
       "sqft_lot15       0\n",
       "dtype: int64"
      ]
     },
     "execution_count": 29,
     "metadata": {},
     "output_type": "execute_result"
    }
   ],
   "source": [
    "df.isnull().sum()"
   ]
  },
  {
   "cell_type": "markdown",
   "id": "f0561548-b73f-456a-b2c1-71e6240f5b53",
   "metadata": {},
   "source": [
    "3. No hay variables categóricas"
   ]
  },
  {
   "cell_type": "code",
   "execution_count": 30,
   "id": "f0aa0596-4f23-49ca-8129-8dffae127574",
   "metadata": {},
   "outputs": [
    {
     "data": {
      "text/plain": [
       "price            float64\n",
       "bedrooms           int64\n",
       "bathrooms        float64\n",
       "sqft_living        int64\n",
       "sqft_lot           int64\n",
       "floors           float64\n",
       "waterfront         int64\n",
       "view               int64\n",
       "condition          int64\n",
       "grade              int64\n",
       "sqft_above         int64\n",
       "sqft_basement      int64\n",
       "yr_built           int64\n",
       "yr_renovated       int64\n",
       "zipcode            int64\n",
       "sqft_living15      int64\n",
       "sqft_lot15         int64\n",
       "dtype: object"
      ]
     },
     "execution_count": 30,
     "metadata": {},
     "output_type": "execute_result"
    }
   ],
   "source": [
    "df.dtypes"
   ]
  },
  {
   "cell_type": "markdown",
   "id": "b8f6bbed-9e3b-4da7-82c1-8dde6f08f56c",
   "metadata": {},
   "source": [
    "4.OUTLIERS"
   ]
  },
  {
   "cell_type": "code",
   "execution_count": 31,
   "id": "744f2569-a52b-4aaf-b73a-d1f2b23dbfb6",
   "metadata": {},
   "outputs": [
    {
     "data": {
      "image/png": "[encoded data removed]",
      "text/plain": [
       "<Figure size 640x480 with 1 Axes>"
      ]
     },
     "metadata": {},
     "output_type": "display_data"
    }
   ],
   "source": [
    "df.plot(kind = 'scatter',x='bedrooms',y = 'price')\n",
    "plt.xlabel('# bedrooms')\n",
    "plt.ylabel('price ($)')\n",
    "plt.show()"
   ]
  },
  {
   "cell_type": "code",
   "execution_count": 32,
   "id": "0628e437-2871-4c44-b034-bdf06eecdf5f",
   "metadata": {},
   "outputs": [
    {
     "data": {
      "text/plain": [
       "bedrooms\n",
       "3     9824\n",
       "4     6882\n",
       "2     2760\n",
       "5     1601\n",
       "6      272\n",
       "1      199\n",
       "7       38\n",
       "0       13\n",
       "8       13\n",
       "9        6\n",
       "10       3\n",
       "11       1\n",
       "33       1\n",
       "Name: count, dtype: int64"
      ]
     },
     "execution_count": 32,
     "metadata": {},
     "output_type": "execute_result"
    }
   ],
   "source": [
    "df[\"bedrooms\"].value_counts()"
   ]
  },
  {
   "cell_type": "markdown",
   "id": "97574b94-67e6-42a2-8bb3-041a84a17086",
   "metadata": {},
   "source": [
    "Para mas de 6 habitaciones, empieza a ser una anomalia"
   ]
  },
  {
   "cell_type": "code",
   "execution_count": 33,
   "id": "a0a46be4-b8ea-493c-86ca-6e34c928a551",
   "metadata": {},
   "outputs": [],
   "source": [
    "df_filtered = df[df['bedrooms'] <= 6]"
   ]
  },
  {
   "cell_type": "code",
   "execution_count": 34,
   "id": "c71d6add-0942-4ac3-b9ea-bcc16d76d0d3",
   "metadata": {},
   "outputs": [
    {
     "data": {
      "text/plain": [
       "bedrooms\n",
       "3    9824\n",
       "4    6882\n",
       "2    2760\n",
       "5    1601\n",
       "6     272\n",
       "1     199\n",
       "0      13\n",
       "Name: count, dtype: int64"
      ]
     },
     "execution_count": 34,
     "metadata": {},
     "output_type": "execute_result"
    }
   ],
   "source": [
    "df_filtered['bedrooms'].value_counts()"
   ]
  },
  {
   "cell_type": "code",
   "execution_count": 35,
   "id": "996f878b-28b7-40a7-b0ac-7c013c7f70f9",
   "metadata": {},
   "outputs": [
    {
     "data": {
      "image/png": "[encoded data removed]",
      "text/plain": [
       "<Figure size 640x480 with 1 Axes>"
      ]
     },
     "metadata": {},
     "output_type": "display_data"
    },
    {
     "data": {
      "image/png": "[encoded data removed]",
      "text/plain": [
       "<Figure size 640x480 with 1 Axes>"
      ]
     },
     "metadata": {},
     "output_type": "display_data"
    }
   ],
   "source": [
    "df.plot(kind = 'scatter',x='bedrooms',y = 'price')\n",
    "plt.xlabel('# bedrooms')\n",
    "plt.ylabel('price ($)')\n",
    "plt.show()\n",
    "\n",
    "df_filtered.plot(kind = 'scatter',x='bedrooms',y = 'price')\n",
    "plt.xlabel('# bedrooms')\n",
    "plt.ylabel('price ($)')\n",
    "plt.show()"
   ]
  },
  {
   "cell_type": "code",
   "execution_count": 36,
   "id": "69cbdd9c-2902-48a1-9ae1-f9f01db1bb48",
   "metadata": {},
   "outputs": [
    {
     "name": "stdout",
     "output_type": "stream",
     "text": [
      "Original: 21613\n",
      "Filtered: 21551\n",
      "Diferencia: 0.2868643871743858%\n"
     ]
    }
   ],
   "source": [
    "print(f'Original: {df.shape[0]}\\nFiltered: {df_filtered.shape[0]}')\n",
    "print(f'Diferencia: {(df.shape[0] - df_filtered.shape[0])/df.shape[0]*100}%')"
   ]
  },
  {
   "cell_type": "markdown",
   "id": "16264770-570f-4e99-850a-4c599ba45119",
   "metadata": {},
   "source": [
    "La diferencia de datos no es muy grande, lo aceptamos"
   ]
  },
  {
   "cell_type": "code",
   "execution_count": 37,
   "id": "9564d929-b0d3-4957-8653-13e15be88b02",
   "metadata": {},
   "outputs": [],
   "source": [
    "df = df_filtered"
   ]
  },
  {
   "cell_type": "markdown",
   "id": "2505a1ee-2717-4153-a6ac-509b84432934",
   "metadata": {},
   "source": [
    "5.Quito variables muy correlacionadas.\n",
    "En el EDA hemos visto que estan intimamente relacionados sqft_above y sqft_living, puedo eliminar uno de ellos."
   ]
  },
  {
   "cell_type": "code",
   "execution_count": 38,
   "id": "5a19de39-3263-4725-87cc-a3bfc3d40d9b",
   "metadata": {},
   "outputs": [],
   "source": [
    "df = df.drop(['sqft_above'], axis=1)"
   ]
  },
  {
   "cell_type": "code",
   "execution_count": null,
   "id": "8fe4a8c7-a06a-41b7-90e1-edde3d571bd9",
   "metadata": {},
   "outputs": [],
   "source": []
  }
 ],
 "metadata": {
  "kernelspec": {
   "display_name": "MLprice",
   "language": "python",
   "name": "mlprice"
  },
  "language_info": {
   "codemirror_mode": {
    "name": "ipython",
    "version": 3
   },
   "file_extension": ".py",
   "mimetype": "text/x-python",
   "name": "python",
   "nbconvert_exporter": "python",
   "pygments_lexer": "ipython3",
   "version": "3.10.11"
  }
 },
 "nbformat": 4,
 "nbformat_minor": 5
}
